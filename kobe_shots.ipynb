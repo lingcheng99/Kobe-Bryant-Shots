{
 "cells": [
  {
   "cell_type": "code",
   "execution_count": 1,
   "metadata": {
    "collapsed": false
   },
   "outputs": [
    {
     "name": "stderr",
     "output_type": "stream",
     "text": [
      "//anaconda/lib/python2.7/site-packages/pandas/computation/__init__.py:19: UserWarning: The installed version of numexpr 2.4.4 is not supported in pandas and will be not be used\n",
      "\n",
      "  UserWarning)\n"
     ]
    }
   ],
   "source": [
    "import numpy as np\n",
    "import pandas as pd\n",
    "import matplotlib.pyplot as plt\n",
    "import seaborn as sns\n",
    "%matplotlib inline\n",
    "from sklearn.ensemble import RandomForestClassifier\n",
    "from sklearn.cross_validation import KFold, train_test_split,cross_val_score\n",
    "from sklearn import metrics"
   ]
  },
  {
   "cell_type": "code",
   "execution_count": 2,
   "metadata": {
    "collapsed": false
   },
   "outputs": [
    {
     "name": "stdout",
     "output_type": "stream",
     "text": [
      "(30697, 25)\n",
      "<class 'pandas.core.frame.DataFrame'>\n",
      "RangeIndex: 30697 entries, 0 to 30696\n",
      "Data columns (total 25 columns):\n",
      "action_type           30697 non-null object\n",
      "combined_shot_type    30697 non-null object\n",
      "game_event_id         30697 non-null int64\n",
      "game_id               30697 non-null int64\n",
      "lat                   30697 non-null float64\n",
      "loc_x                 30697 non-null int64\n",
      "loc_y                 30697 non-null int64\n",
      "lon                   30697 non-null float64\n",
      "minutes_remaining     30697 non-null int64\n",
      "period                30697 non-null int64\n",
      "playoffs              30697 non-null int64\n",
      "season                30697 non-null object\n",
      "seconds_remaining     30697 non-null int64\n",
      "shot_distance         30697 non-null int64\n",
      "shot_made_flag        25697 non-null float64\n",
      "shot_type             30697 non-null object\n",
      "shot_zone_area        30697 non-null object\n",
      "shot_zone_basic       30697 non-null object\n",
      "shot_zone_range       30697 non-null object\n",
      "team_id               30697 non-null int64\n",
      "team_name             30697 non-null object\n",
      "game_date             30697 non-null object\n",
      "matchup               30697 non-null object\n",
      "opponent              30697 non-null object\n",
      "shot_id               30697 non-null int64\n",
      "dtypes: float64(3), int64(11), object(11)\n",
      "memory usage: 5.9+ MB\n"
     ]
    }
   ],
   "source": [
    "data = pd.read_csv('data.csv')\n",
    "print data.shape\n",
    "data.info()"
   ]
  },
  {
   "cell_type": "code",
   "execution_count": null,
   "metadata": {
    "collapsed": true
   },
   "outputs": [],
   "source": []
  },
  {
   "cell_type": "markdown",
   "metadata": {
    "collapsed": true
   },
   "source": [
    "## Feature Engineering"
   ]
  },
  {
   "cell_type": "code",
   "execution_count": 3,
   "metadata": {
    "collapsed": false
   },
   "outputs": [
    {
     "data": {
      "text/plain": [
       "count     30697\n",
       "unique        2\n",
       "top        True\n",
       "freq      15741\n",
       "Name: home?, dtype: object"
      ]
     },
     "execution_count": 3,
     "metadata": {},
     "output_type": "execute_result"
    }
   ],
   "source": [
    "#at home or not\n",
    "data['home?'] = data['matchup'].apply(lambda x: x.split('@')[0].strip()=='LAL')\n",
    "data['home?'].describe()"
   ]
  },
  {
   "cell_type": "code",
   "execution_count": 4,
   "metadata": {
    "collapsed": false
   },
   "outputs": [
    {
     "data": {
      "text/plain": [
       "count     30697\n",
       "unique        2\n",
       "top        True\n",
       "freq      24271\n",
       "Name: shot_type?, dtype: object"
      ]
     },
     "execution_count": 4,
     "metadata": {},
     "output_type": "execute_result"
    }
   ],
   "source": [
    "#2PT or 3PT shot_type\n",
    "data['shot_type?'] = data['shot_type']=='2PT Field Goal'\n",
    "data['shot_type?'].describe()"
   ]
  },
  {
   "cell_type": "code",
   "execution_count": 5,
   "metadata": {
    "collapsed": false
   },
   "outputs": [
    {
     "data": {
      "text/plain": [
       "count     30697\n",
       "unique        2\n",
       "top       False\n",
       "freq      26198\n",
       "Name: playoffs?, dtype: object"
      ]
     },
     "execution_count": 5,
     "metadata": {},
     "output_type": "execute_result"
    }
   ],
   "source": [
    "#playoff or not\n",
    "data['playoffs?'] = data['playoffs']==1\n",
    "data['playoffs?'].describe()"
   ]
  },
  {
   "cell_type": "code",
   "execution_count": 6,
   "metadata": {
    "collapsed": false
   },
   "outputs": [
    {
     "data": {
      "image/png": "[encoded data removed]",
      "text/plain": [
       "<matplotlib.figure.Figure at 0x105157410>"
      ]
     },
     "metadata": {},
     "output_type": "display_data"
    }
   ],
   "source": [
    "# use Kaggle's script to encode categorical features\n",
    "# Shooting accuracy with shot distance\n",
    "def get_acc(df, against):\n",
    "    ct = pd.crosstab(df.shot_made_flag, df[against]).apply(lambda x:x/x.sum(), axis=0)\n",
    "    x, y = ct.columns, ct.values[1, :]\n",
    "    plt.figure(figsize=(7, 5))\n",
    "    plt.plot(x, y)\n",
    "    plt.xlabel(against)\n",
    "    plt.ylabel('% shots made')\n",
    "    #plt.savefig(against + '_vs_accuracy.png')\n",
    "    \n",
    "get_acc(data, 'shot_distance')"
   ]
  },
  {
   "cell_type": "code",
   "execution_count": 7,
   "metadata": {
    "collapsed": false
   },
   "outputs": [
    {
     "data": {
      "image/png": "[encoded data removed]",
      "text/plain": [
       "<matplotlib.figure.Figure at 0x1129db150>"
      ]
     },
     "metadata": {},
     "output_type": "display_data"
    }
   ],
   "source": [
    "#use kaggle script to sort_encode 'action_type' \n",
    "\n",
    "action_map = {action: i for i, action in enumerate(data.action_type.unique())}\n",
    "data['action_type_enumerated'] = data.action_type.map(action_map)\n",
    "\n",
    "def sort_encode(df, field):\n",
    "    ct = pd.crosstab(df.shot_made_flag, df[field]).apply(lambda x:x/x.sum(), axis=0)\n",
    "    temp = list(zip(ct.values[1, :], ct.columns))\n",
    "    temp.sort()\n",
    "    new_map = {}\n",
    "    for index, (acc, old_number) in enumerate(temp):\n",
    "        new_map[old_number] = index\n",
    "    new_field = field + '_sort_enumerated'\n",
    "    df[new_field] = df[field].map(new_map)\n",
    "    get_acc(df, new_field)\n",
    "\n",
    "sort_encode(data, 'action_type_enumerated')"
   ]
  },
  {
   "cell_type": "code",
   "execution_count": 8,
   "metadata": {
    "collapsed": false
   },
   "outputs": [
    {
     "data": {
      "text/html": [
       "<div>\n",
       "<table border=\"1\" class=\"dataframe\">\n",
       "  <thead>\n",
       "    <tr style=\"text-align: right;\">\n",
       "      <th>action_type_enumerated_sort_enumerated</th>\n",
       "      <th>0.0</th>\n",
       "      <th>1.0</th>\n",
       "      <th>2.0</th>\n",
       "      <th>3.0</th>\n",
       "      <th>4.0</th>\n",
       "      <th>5.0</th>\n",
       "      <th>6.0</th>\n",
       "      <th>7.0</th>\n",
       "      <th>8.0</th>\n",
       "      <th>9.0</th>\n",
       "      <th>...</th>\n",
       "      <th>45.0</th>\n",
       "      <th>46.0</th>\n",
       "      <th>47.0</th>\n",
       "      <th>48.0</th>\n",
       "      <th>49.0</th>\n",
       "      <th>50.0</th>\n",
       "      <th>51.0</th>\n",
       "      <th>52.0</th>\n",
       "      <th>53.0</th>\n",
       "      <th>54.0</th>\n",
       "    </tr>\n",
       "    <tr>\n",
       "      <th>shot_made_flag</th>\n",
       "      <th></th>\n",
       "      <th></th>\n",
       "      <th></th>\n",
       "      <th></th>\n",
       "      <th></th>\n",
       "      <th></th>\n",
       "      <th></th>\n",
       "      <th></th>\n",
       "      <th></th>\n",
       "      <th></th>\n",
       "      <th></th>\n",
       "      <th></th>\n",
       "      <th></th>\n",
       "      <th></th>\n",
       "      <th></th>\n",
       "      <th></th>\n",
       "      <th></th>\n",
       "      <th></th>\n",
       "      <th></th>\n",
       "      <th></th>\n",
       "      <th></th>\n",
       "    </tr>\n",
       "  </thead>\n",
       "  <tbody>\n",
       "    <tr>\n",
       "      <th>0.0</th>\n",
       "      <td>1.0</td>\n",
       "      <td>0.75</td>\n",
       "      <td>0.673087</td>\n",
       "      <td>0.666667</td>\n",
       "      <td>0.649007</td>\n",
       "      <td>0.630137</td>\n",
       "      <td>0.61467</td>\n",
       "      <td>0.565217</td>\n",
       "      <td>0.538462</td>\n",
       "      <td>0.5</td>\n",
       "      <td>...</td>\n",
       "      <td>0.081967</td>\n",
       "      <td>0.052632</td>\n",
       "      <td>0.023346</td>\n",
       "      <td>0.023256</td>\n",
       "      <td>0.017964</td>\n",
       "      <td>0.0</td>\n",
       "      <td>0.0</td>\n",
       "      <td>0.0</td>\n",
       "      <td>0.0</td>\n",
       "      <td>0.0</td>\n",
       "    </tr>\n",
       "    <tr>\n",
       "      <th>1.0</th>\n",
       "      <td>0.0</td>\n",
       "      <td>0.25</td>\n",
       "      <td>0.326913</td>\n",
       "      <td>0.333333</td>\n",
       "      <td>0.350993</td>\n",
       "      <td>0.369863</td>\n",
       "      <td>0.38533</td>\n",
       "      <td>0.434783</td>\n",
       "      <td>0.461538</td>\n",
       "      <td>0.5</td>\n",
       "      <td>...</td>\n",
       "      <td>0.918033</td>\n",
       "      <td>0.947368</td>\n",
       "      <td>0.976654</td>\n",
       "      <td>0.976744</td>\n",
       "      <td>0.982036</td>\n",
       "      <td>1.0</td>\n",
       "      <td>1.0</td>\n",
       "      <td>1.0</td>\n",
       "      <td>1.0</td>\n",
       "      <td>1.0</td>\n",
       "    </tr>\n",
       "  </tbody>\n",
       "</table>\n",
       "<p>2 rows × 55 columns</p>\n",
       "</div>"
      ],
      "text/plain": [
       "action_type_enumerated_sort_enumerated  0.0   1.0       2.0       3.0   \\\n",
       "shot_made_flag                                                           \n",
       "0.0                                      1.0  0.75  0.673087  0.666667   \n",
       "1.0                                      0.0  0.25  0.326913  0.333333   \n",
       "\n",
       "action_type_enumerated_sort_enumerated      4.0       5.0      6.0       7.0   \\\n",
       "shot_made_flag                                                                  \n",
       "0.0                                     0.649007  0.630137  0.61467  0.565217   \n",
       "1.0                                     0.350993  0.369863  0.38533  0.434783   \n",
       "\n",
       "action_type_enumerated_sort_enumerated      8.0   9.0   ...       45.0  \\\n",
       "shot_made_flag                                          ...              \n",
       "0.0                                     0.538462   0.5  ...   0.081967   \n",
       "1.0                                     0.461538   0.5  ...   0.918033   \n",
       "\n",
       "action_type_enumerated_sort_enumerated      46.0      47.0      48.0  \\\n",
       "shot_made_flag                                                         \n",
       "0.0                                     0.052632  0.023346  0.023256   \n",
       "1.0                                     0.947368  0.976654  0.976744   \n",
       "\n",
       "action_type_enumerated_sort_enumerated      49.0  50.0  51.0  52.0  53.0  54.0  \n",
       "shot_made_flag                                                                  \n",
       "0.0                                     0.017964   0.0   0.0   0.0   0.0   0.0  \n",
       "1.0                                     0.982036   1.0   1.0   1.0   1.0   1.0  \n",
       "\n",
       "[2 rows x 55 columns]"
      ]
     },
     "execution_count": 8,
     "metadata": {},
     "output_type": "execute_result"
    }
   ],
   "source": [
    "pd.crosstab(data.shot_made_flag, data['action_type_enumerated_sort_enumerated']).apply(lambda x:x/x.sum(), axis=0)"
   ]
  },
  {
   "cell_type": "code",
   "execution_count": 9,
   "metadata": {
    "collapsed": false
   },
   "outputs": [
    {
     "data": {
      "image/png": "[encoded data removed]",
      "text/plain": [
       "<matplotlib.figure.Figure at 0x112353a50>"
      ]
     },
     "metadata": {},
     "output_type": "display_data"
    }
   ],
   "source": [
    "sort_encode(data,'period')"
   ]
  },
  {
   "cell_type": "code",
   "execution_count": 10,
   "metadata": {
    "collapsed": false
   },
   "outputs": [
    {
     "data": {
      "text/html": [
       "<div>\n",
       "<table border=\"1\" class=\"dataframe\">\n",
       "  <thead>\n",
       "    <tr style=\"text-align: right;\">\n",
       "      <th>period_sort_enumerated</th>\n",
       "      <th>0</th>\n",
       "      <th>1</th>\n",
       "      <th>2</th>\n",
       "      <th>3</th>\n",
       "      <th>4</th>\n",
       "      <th>5</th>\n",
       "      <th>6</th>\n",
       "    </tr>\n",
       "    <tr>\n",
       "      <th>shot_made_flag</th>\n",
       "      <th></th>\n",
       "      <th></th>\n",
       "      <th></th>\n",
       "      <th></th>\n",
       "      <th></th>\n",
       "      <th></th>\n",
       "      <th></th>\n",
       "    </tr>\n",
       "  </thead>\n",
       "  <tbody>\n",
       "    <tr>\n",
       "      <th>0.0</th>\n",
       "      <td>0.586298</td>\n",
       "      <td>0.571429</td>\n",
       "      <td>0.557143</td>\n",
       "      <td>0.551198</td>\n",
       "      <td>0.546558</td>\n",
       "      <td>0.534328</td>\n",
       "      <td>0.533333</td>\n",
       "    </tr>\n",
       "    <tr>\n",
       "      <th>1.0</th>\n",
       "      <td>0.413702</td>\n",
       "      <td>0.428571</td>\n",
       "      <td>0.442857</td>\n",
       "      <td>0.448802</td>\n",
       "      <td>0.453442</td>\n",
       "      <td>0.465672</td>\n",
       "      <td>0.466667</td>\n",
       "    </tr>\n",
       "  </tbody>\n",
       "</table>\n",
       "</div>"
      ],
      "text/plain": [
       "period_sort_enumerated         0         1         2         3         4  \\\n",
       "shot_made_flag                                                             \n",
       "0.0                     0.586298  0.571429  0.557143  0.551198  0.546558   \n",
       "1.0                     0.413702  0.428571  0.442857  0.448802  0.453442   \n",
       "\n",
       "period_sort_enumerated         5         6  \n",
       "shot_made_flag                              \n",
       "0.0                     0.534328  0.533333  \n",
       "1.0                     0.465672  0.466667  "
      ]
     },
     "execution_count": 10,
     "metadata": {},
     "output_type": "execute_result"
    }
   ],
   "source": [
    "pd.crosstab(data.shot_made_flag, data['period_sort_enumerated']).apply(lambda x:x/x.sum(), axis=0)"
   ]
  },
  {
   "cell_type": "code",
   "execution_count": 11,
   "metadata": {
    "collapsed": false
   },
   "outputs": [
    {
     "data": {
      "image/png": "[encoded data removed]",
      "text/plain": [
       "<matplotlib.figure.Figure at 0x1129c2a10>"
      ]
     },
     "metadata": {},
     "output_type": "display_data"
    }
   ],
   "source": [
    "sort_encode(data,'season')"
   ]
  },
  {
   "cell_type": "code",
   "execution_count": 13,
   "metadata": {
    "collapsed": false
   },
   "outputs": [
    {
     "data": {
      "image/png": "[encoded data removed]",
      "text/plain": [
       "<matplotlib.figure.Figure at 0x1123381d0>"
      ]
     },
     "metadata": {},
     "output_type": "display_data"
    }
   ],
   "source": [
    "sort_encode(data,'shot_zone_area')"
   ]
  },
  {
   "cell_type": "code",
   "execution_count": 14,
   "metadata": {
    "collapsed": false
   },
   "outputs": [
    {
     "data": {
      "image/png": "[encoded data removed]",
      "text/plain": [
       "<matplotlib.figure.Figure at 0x115584490>"
      ]
     },
     "metadata": {},
     "output_type": "display_data"
    }
   ],
   "source": [
    "sort_encode(data,'shot_zone_basic')"
   ]
  },
  {
   "cell_type": "code",
   "execution_count": 15,
   "metadata": {
    "collapsed": false
   },
   "outputs": [
    {
     "data": {
      "image/png": "[encoded data removed]",
      "text/plain": [
       "<matplotlib.figure.Figure at 0x115923f10>"
      ]
     },
     "metadata": {},
     "output_type": "display_data"
    }
   ],
   "source": [
    "sort_encode(data,'shot_zone_range')"
   ]
  },
  {
   "cell_type": "code",
   "execution_count": null,
   "metadata": {
    "collapsed": true
   },
   "outputs": [],
   "source": []
  },
  {
   "cell_type": "markdown",
   "metadata": {},
   "source": [
    "# Modeling with randomforest"
   ]
  },
  {
   "cell_type": "code",
   "execution_count": 16,
   "metadata": {
    "collapsed": false
   },
   "outputs": [
    {
     "data": {
      "text/plain": [
       "Index([u'action_type', u'combined_shot_type', u'game_event_id', u'game_id',\n",
       "       u'lat', u'loc_x', u'loc_y', u'lon', u'minutes_remaining', u'period',\n",
       "       u'playoffs', u'season', u'seconds_remaining', u'shot_distance',\n",
       "       u'shot_made_flag', u'shot_type', u'shot_zone_area', u'shot_zone_basic',\n",
       "       u'shot_zone_range', u'team_id', u'team_name', u'game_date', u'matchup',\n",
       "       u'opponent', u'shot_id', u'home?', u'shot_type?', u'playoffs?',\n",
       "       u'action_type_enumerated', u'action_type_enumerated_sort_enumerated',\n",
       "       u'period_sort_enumerated', u'season_sort_enumerated',\n",
       "       u'shot_zone_area_sort_enumerated', u'shot_zone_basic_sort_enumerated',\n",
       "       u'shot_zone_range_sort_enumerated'],\n",
       "      dtype='object')"
      ]
     },
     "execution_count": 16,
     "metadata": {},
     "output_type": "execute_result"
    }
   ],
   "source": [
    "data.columns"
   ]
  },
  {
   "cell_type": "code",
   "execution_count": 18,
   "metadata": {
    "collapsed": true
   },
   "outputs": [],
   "source": [
    "cols_use=['action_type_enumerated_sort_enumerated','period_sort_enumerated','season_sort_enumerated',\\\n",
    "         'playoffs?','home?', 'shot_type?', 'shot_distance','shot_zone_area_sort_enumerated',\\\n",
    "         'shot_zone_basic_sort_enumerated','shot_zone_range_sort_enumerated','shot_made_flag']\n",
    "cols_maybe =['loc_x', 'loc_y','combined_shot_type']"
   ]
  },
  {
   "cell_type": "code",
   "execution_count": 23,
   "metadata": {
    "collapsed": true
   },
   "outputs": [],
   "source": [
    "#simple test function\n",
    "\n",
    "def test_it(data): #input data with cols_use and 'shot_made_flag'\n",
    "    clf = RandomForestClassifier(n_estimators=100,n_jobs=-1) #specify tree and depth\n",
    "    return cross_val_score(clf, data.drop('shot_made_flag', 1), data.shot_made_flag,\n",
    "                           scoring='accuracy', cv=10)\n"
   ]
  },
  {
   "cell_type": "code",
   "execution_count": 24,
   "metadata": {
    "collapsed": false
   },
   "outputs": [
    {
     "data": {
      "text/plain": [
       "0.61061516833310725"
      ]
     },
     "execution_count": 24,
     "metadata": {},
     "output_type": "execute_result"
    }
   ],
   "source": [
    "df = data[cols_use]\n",
    "df = df.dropna()\n",
    "test_it(df).mean()"
   ]
  },
  {
   "cell_type": "code",
   "execution_count": 25,
   "metadata": {
    "collapsed": false
   },
   "outputs": [
    {
     "data": {
      "text/plain": [
       "0.66345919863823188"
      ]
     },
     "execution_count": 25,
     "metadata": {},
     "output_type": "execute_result"
    }
   ],
   "source": [
    "#remove period and season\n",
    "cols_use2=['action_type_enumerated_sort_enumerated',\n",
    "         'playoffs?','home?', 'shot_type?', 'shot_distance','shot_zone_area_sort_enumerated',\\\n",
    "         'shot_zone_basic_sort_enumerated','shot_zone_range_sort_enumerated','shot_made_flag']\n",
    "df = data[cols_use2]\n",
    "df = df.dropna()\n",
    "test_it(df).mean()"
   ]
  },
  {
   "cell_type": "code",
   "execution_count": 26,
   "metadata": {
    "collapsed": false
   },
   "outputs": [
    {
     "data": {
      "text/plain": [
       "0.67015220005517384"
      ]
     },
     "execution_count": 26,
     "metadata": {},
     "output_type": "execute_result"
    }
   ],
   "source": [
    "#remove three more features, 'shot_zone_area/basic/range'\n",
    "cols_use3=['action_type_enumerated_sort_enumerated',\n",
    "         'playoffs?','home?', 'shot_type?', 'shot_distance','shot_made_flag']\n",
    "df = data[cols_use3]\n",
    "df = df.dropna()\n",
    "test_it(df).mean()"
   ]
  },
  {
   "cell_type": "code",
   "execution_count": 31,
   "metadata": {
    "collapsed": false
   },
   "outputs": [
    {
     "data": {
      "text/plain": [
       "<matplotlib.axes._subplots.AxesSubplot at 0x115f0c890>"
      ]
     },
     "execution_count": 31,
     "metadata": {},
     "output_type": "execute_result"
    },
    {
     "data": {
      "image/png": "[encoded data removed]",
      "text/plain": [
       "<matplotlib.figure.Figure at 0x115efbc50>"
      ]
     },
     "metadata": {},
     "output_type": "display_data"
    }
   ],
   "source": [
    "#test number of trees, using 'roc_auc' as metrics\n",
    "#not very different, choose 50 trees\n",
    "\n",
    "estimators, scores = list(range(50,350,50)), []\n",
    "for i in estimators:\n",
    "    clf = RandomForestClassifier(n_jobs=-1, n_estimators=i)\n",
    "    x = cross_val_score(clf, df.drop('shot_made_flag', 1), df.shot_made_flag,\n",
    "                              scoring='roc_auc', cv=5)\n",
    "    scores.append(x)\n",
    "x = [i for i in estimators for j in range(5)]\n",
    "sns.boxplot(x, np.array(scores).flatten())"
   ]
  },
  {
   "cell_type": "code",
   "execution_count": 32,
   "metadata": {
    "collapsed": false
   },
   "outputs": [
    {
     "data": {
      "text/plain": [
       "<matplotlib.axes._subplots.AxesSubplot at 0x117820e10>"
      ]
     },
     "execution_count": 32,
     "metadata": {},
     "output_type": "execute_result"
    },
    {
     "data": {
      "image/png": "[encoded data removed]",
      "text/plain": [
       "<matplotlib.figure.Figure at 0x1121c20d0>"
      ]
     },
     "metadata": {},
     "output_type": "display_data"
    }
   ],
   "source": [
    "#test depth of trees\n",
    "#choose max_depth=7\n",
    "depth, scores = list(range(1, 20, 1)), []\n",
    "for i in depth:\n",
    "    clf = RandomForestClassifier(n_jobs=-1, n_estimators=50, max_depth=i)\n",
    "    x = cross_val_score(clf, df.drop('shot_made_flag', 1), df.shot_made_flag,\n",
    "                              scoring='roc_auc', cv=5)\n",
    "    scores.append(x)\n",
    "x = [i for i in depth for j in range(5)]\n",
    "sns.boxplot(x, np.array(scores).flatten())"
   ]
  },
  {
   "cell_type": "code",
   "execution_count": null,
   "metadata": {
    "collapsed": true
   },
   "outputs": [],
   "source": []
  },
  {
   "cell_type": "code",
   "execution_count": null,
   "metadata": {
    "collapsed": true
   },
   "outputs": [],
   "source": []
  },
  {
   "cell_type": "code",
   "execution_count": null,
   "metadata": {
    "collapsed": true
   },
   "outputs": [],
   "source": []
  },
  {
   "cell_type": "markdown",
   "metadata": {},
   "source": [
    "## Make submissions"
   ]
  },
  {
   "cell_type": "code",
   "execution_count": 33,
   "metadata": {
    "collapsed": false
   },
   "outputs": [
    {
     "data": {
      "text/plain": [
       "(6, 7)"
      ]
     },
     "execution_count": 33,
     "metadata": {},
     "output_type": "execute_result"
    }
   ],
   "source": [
    "cols_use3=['action_type_enumerated_sort_enumerated',\n",
    "         'playoffs?','home?', 'shot_type?', 'shot_distance','shot_made_flag']\n",
    "cols_use4 = cols_use3 + ['shot_id'] #need 'shot_id' for test data submission\n",
    "len(cols_use3),len(cols_use4)"
   ]
  },
  {
   "cell_type": "code",
   "execution_count": 34,
   "metadata": {
    "collapsed": false
   },
   "outputs": [
    {
     "data": {
      "text/plain": [
       "((25697, 6), (5000, 7))"
      ]
     },
     "execution_count": 34,
     "metadata": {},
     "output_type": "execute_result"
    }
   ],
   "source": [
    "train = data.loc[data.shot_made_flag.notnull(),cols_use3]\n",
    "test = data.loc[data.shot_made_flag.isnull(),cols_use4]\n",
    "train.shape,test.shape"
   ]
  },
  {
   "cell_type": "code",
   "execution_count": 35,
   "metadata": {
    "collapsed": false
   },
   "outputs": [
    {
     "data": {
      "text/html": [
       "<div>\n",
       "<table border=\"1\" class=\"dataframe\">\n",
       "  <thead>\n",
       "    <tr style=\"text-align: right;\">\n",
       "      <th></th>\n",
       "      <th>action_type_enumerated_sort_enumerated</th>\n",
       "      <th>playoffs?</th>\n",
       "      <th>home?</th>\n",
       "      <th>shot_type?</th>\n",
       "      <th>shot_distance</th>\n",
       "      <th>shot_made_flag</th>\n",
       "      <th>shot_id</th>\n",
       "    </tr>\n",
       "  </thead>\n",
       "  <tbody>\n",
       "    <tr>\n",
       "      <th>22577</th>\n",
       "      <td>NaN</td>\n",
       "      <td>False</td>\n",
       "      <td>True</td>\n",
       "      <td>True</td>\n",
       "      <td>14</td>\n",
       "      <td>NaN</td>\n",
       "      <td>22578</td>\n",
       "    </tr>\n",
       "    <tr>\n",
       "      <th>22623</th>\n",
       "      <td>NaN</td>\n",
       "      <td>False</td>\n",
       "      <td>False</td>\n",
       "      <td>True</td>\n",
       "      <td>2</td>\n",
       "      <td>NaN</td>\n",
       "      <td>22624</td>\n",
       "    </tr>\n",
       "  </tbody>\n",
       "</table>\n",
       "</div>"
      ],
      "text/plain": [
       "       action_type_enumerated_sort_enumerated playoffs?  home? shot_type?  \\\n",
       "22577                                     NaN     False   True       True   \n",
       "22623                                     NaN     False  False       True   \n",
       "\n",
       "       shot_distance  shot_made_flag  shot_id  \n",
       "22577             14             NaN    22578  \n",
       "22623              2             NaN    22624  "
      ]
     },
     "execution_count": 35,
     "metadata": {},
     "output_type": "execute_result"
    }
   ],
   "source": [
    "#two null in 'action_type_enumerated_sort_enumerated'\n",
    "test.ix[test['action_type_enumerated_sort_enumerated'].isnull(),:]"
   ]
  },
  {
   "cell_type": "code",
   "execution_count": 36,
   "metadata": {
    "collapsed": false
   },
   "outputs": [],
   "source": [
    "#fill null for test\n",
    "mode = test.action_type_enumerated_sort_enumerated.mode()[0]\n",
    "test.action_type_enumerated_sort_enumerated.fillna(mode, inplace=True)"
   ]
  },
  {
   "cell_type": "code",
   "execution_count": 37,
   "metadata": {
    "collapsed": false
   },
   "outputs": [],
   "source": [
    "clf = RandomForestClassifier(n_estimators=100,n_jobs=-1,max_depth=7)\n",
    "clf.fit(train.drop('shot_made_flag', 1), train.shot_made_flag)\n",
    "predictions = clf.predict_proba(test.drop(['shot_made_flag','shot_id'],1))"
   ]
  },
  {
   "cell_type": "code",
   "execution_count": 38,
   "metadata": {
    "collapsed": false
   },
   "outputs": [
    {
     "data": {
      "text/plain": [
       "array([[ 0.64823046,  0.35176954],\n",
       "       [ 0.72613798,  0.27386202],\n",
       "       [ 0.24507289,  0.75492711],\n",
       "       [ 0.24507289,  0.75492711],\n",
       "       [ 0.65166973,  0.34833027],\n",
       "       [ 0.64165619,  0.35834381],\n",
       "       [ 0.5483575 ,  0.4516425 ],\n",
       "       [ 0.5483575 ,  0.4516425 ],\n",
       "       [ 0.27542893,  0.72457107],\n",
       "       [ 0.65227523,  0.34772477]])"
      ]
     },
     "execution_count": 38,
     "metadata": {},
     "output_type": "execute_result"
    }
   ],
   "source": [
    "predictions[:10]"
   ]
  },
  {
   "cell_type": "code",
   "execution_count": 112,
   "metadata": {
    "collapsed": false
   },
   "outputs": [],
   "source": [
    "submission = pd.DataFrame({'shot_id': test.shot_id,\n",
    "                           'shot_made_flag': predictions[:, 1]})\n",
    "submission[['shot_id', 'shot_made_flag']].to_csv('submission.csv', index=False)"
   ]
  },
  {
   "cell_type": "code",
   "execution_count": null,
   "metadata": {
    "collapsed": true
   },
   "outputs": [],
   "source": []
  },
  {
   "cell_type": "code",
   "execution_count": null,
   "metadata": {
    "collapsed": true
   },
   "outputs": [],
   "source": []
  },
  {
   "cell_type": "code",
   "execution_count": null,
   "metadata": {
    "collapsed": true
   },
   "outputs": [],
   "source": []
  },
  {
   "cell_type": "code",
   "execution_count": null,
   "metadata": {
    "collapsed": true
   },
   "outputs": [],
   "source": []
  },
  {
   "cell_type": "code",
   "execution_count": null,
   "metadata": {
    "collapsed": true
   },
   "outputs": [],
   "source": []
  }
 ],
 "metadata": {
  "kernelspec": {
   "display_name": "Python 2",
   "language": "python",
   "name": "python2"
  },
  "language_info": {
   "codemirror_mode": {
    "name": "ipython",
    "version": 2
   },
   "file_extension": ".py",
   "mimetype": "text/x-python",
   "name": "python",
   "nbconvert_exporter": "python",
   "pygments_lexer": "ipython2",
   "version": "2.7.11"
  }
 },
 "nbformat": 4,
 "nbformat_minor": 0
}
